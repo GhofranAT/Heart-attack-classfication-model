{
 "cells": [
  {
   "cell_type": "markdown",
   "id": "767a27e4",
   "metadata": {},
   "source": [
    "# Project Definition"
   ]
  },
  {
   "cell_type": "markdown",
   "id": "c79b7f42",
   "metadata": {},
   "source": [
    "### Project Overview\n",
    "\n",
    "The purpose of this project is to analyze the patients' medical records like their blood pressure, cholesterol level, blood sugar, etc. Furthermore, a ML algorithm will be used to classify the patients based on whether or not they have a chance of having a heart attack.\n",
    "\n",
    "There will be one dataset:\n",
    "heart_disease_uci.csv, which is the main dataset that contains the patients' ages, sex, and other medical records.\n",
    "\n",
    "### Project Problem\n",
    "\n",
    "Heart attack is a serious medical condition that may be life-threatening. It is happened because of a blockage in the blood vessels that disrupt the flow of the blood to the heart. The cause of the heart attack is that some substances like cholesterol, calcium, fats, proteins, and inflammatory cells are build up in the blood vessels and form plaques. Sudden ruptures of the plaques lead the platelets to cover it up, consequently, a clot is formed in the blood vessel and narrows, or completely blocks the pathway of the blood to the heart. The lack of blood supply leads to a lack of oxygen that's needed for the heart to function, this can damage or destroy part of the myocardium (heart muscles).\n",
    "\n",
    "Researchers find that there are a lot of risk factors for getting a heart attack, like the increase in age, high blood cholesterol, high blood pressure, etc. Therefore, it is critical to know the probability of getting a heart attack based on these risk factors to prevent it, or at least early detect it to save patients' life.\n",
    "\n",
    "\n",
    "\n",
    "### Metrics\n",
    " The accuracy and f1- score are used to evaluete the model.\n",
    " - The accuracy is the ratio of correctly predicted values (true positive) to the total predictions:\n",
    " \n",
    " $$accuracy= \\frac{TruePositive + TrueNegative}{TruePositive + TrueNegative+ FalsePositive + FalseNegative}$$\n",
    " \n",
    " - The f1-score is the harmonic mean of the precision and recall: \n",
    "\n",
    "$$f1-score= 2 * \\frac{precision*recall}{precision+recall}$$\n",
    "\n",
    "where: \n",
    "$$precision= \\frac{TruePositive}{TruePositive + FalsePositive}$$\n",
    " \n",
    "$$recall= \\frac{TruePositive}{TruePositive +  FalseNegative}$$\n",
    " \n",
    "The model has multi-class target variables which are the probability of getting a heart attack from 0 ( not likely to get a heart attack) to 4 ( more likely to get a heart attack). The model may predict one/ two classes perfectly and neglect the other classes especially with the class imbalance in the dataset, which leads to an increase in the accuracy with the poor performance. For that reason, accuracy is not enough to judge the model performance.\n",
    "\n",
    "To bring more detail about the performance of the model, precision and recall could be used. However, it is difficult to compare the performance of two models one with high precision and the other with high recall. So, the f1- score can give the balance between the two matrices, and make the comparison easier. \n",
    "\n"
   ]
  },
  {
   "cell_type": "markdown",
   "id": "f13ed4b4",
   "metadata": {},
   "source": [
    "# Analysis"
   ]
  },
  {
   "cell_type": "markdown",
   "id": "87984700",
   "metadata": {},
   "source": [
    "### Data Exploration"
   ]
  },
  {
   "cell_type": "code",
   "execution_count": 1,
   "id": "dfd97936",
   "metadata": {},
   "outputs": [],
   "source": [
    "# import libraries\n",
    "import pandas as pd\n",
    "import numpy as np\n",
    "import matplotlib.pyplot as plt\n",
    "import seaborn as sns\n",
    "import pickle\n",
    "\n",
    "%matplotlib inline\n",
    "# read the data from the csv files and save it in dataframes\n",
    "df = pd.read_csv('heart_disease_uci.csv')"
   ]
  },
  {
   "cell_type": "code",
   "execution_count": 2,
   "id": "5a7b5b56",
   "metadata": {},
   "outputs": [
    {
     "data": {
      "text/html": [
       "<div>\n",
       "<style scoped>\n",
       "    .dataframe tbody tr th:only-of-type {\n",
       "        vertical-align: middle;\n",
       "    }\n",
       "\n",
       "    .dataframe tbody tr th {\n",
       "        vertical-align: top;\n",
       "    }\n",
       "\n",
       "    .dataframe thead th {\n",
       "        text-align: right;\n",
       "    }\n",
       "</style>\n",
       "<table border=\"1\" class=\"dataframe\">\n",
       "  <thead>\n",
       "    <tr style=\"text-align: right;\">\n",
       "      <th></th>\n",
       "      <th>id</th>\n",
       "      <th>age</th>\n",
       "      <th>sex</th>\n",
       "      <th>dataset</th>\n",
       "      <th>cp</th>\n",
       "      <th>trestbps</th>\n",
       "      <th>chol</th>\n",
       "      <th>fbs</th>\n",
       "      <th>restecg</th>\n",
       "      <th>thalch</th>\n",
       "      <th>exang</th>\n",
       "      <th>oldpeak</th>\n",
       "      <th>slope</th>\n",
       "      <th>ca</th>\n",
       "      <th>thal</th>\n",
       "      <th>num</th>\n",
       "    </tr>\n",
       "  </thead>\n",
       "  <tbody>\n",
       "    <tr>\n",
       "      <th>0</th>\n",
       "      <td>1</td>\n",
       "      <td>63</td>\n",
       "      <td>Male</td>\n",
       "      <td>Cleveland</td>\n",
       "      <td>typical angina</td>\n",
       "      <td>145.0</td>\n",
       "      <td>233.0</td>\n",
       "      <td>True</td>\n",
       "      <td>lv hypertrophy</td>\n",
       "      <td>150.0</td>\n",
       "      <td>False</td>\n",
       "      <td>2.3</td>\n",
       "      <td>downsloping</td>\n",
       "      <td>0.0</td>\n",
       "      <td>fixed defect</td>\n",
       "      <td>0</td>\n",
       "    </tr>\n",
       "    <tr>\n",
       "      <th>1</th>\n",
       "      <td>2</td>\n",
       "      <td>67</td>\n",
       "      <td>Male</td>\n",
       "      <td>Cleveland</td>\n",
       "      <td>asymptomatic</td>\n",
       "      <td>160.0</td>\n",
       "      <td>286.0</td>\n",
       "      <td>False</td>\n",
       "      <td>lv hypertrophy</td>\n",
       "      <td>108.0</td>\n",
       "      <td>True</td>\n",
       "      <td>1.5</td>\n",
       "      <td>flat</td>\n",
       "      <td>3.0</td>\n",
       "      <td>normal</td>\n",
       "      <td>2</td>\n",
       "    </tr>\n",
       "    <tr>\n",
       "      <th>2</th>\n",
       "      <td>3</td>\n",
       "      <td>67</td>\n",
       "      <td>Male</td>\n",
       "      <td>Cleveland</td>\n",
       "      <td>asymptomatic</td>\n",
       "      <td>120.0</td>\n",
       "      <td>229.0</td>\n",
       "      <td>False</td>\n",
       "      <td>lv hypertrophy</td>\n",
       "      <td>129.0</td>\n",
       "      <td>True</td>\n",
       "      <td>2.6</td>\n",
       "      <td>flat</td>\n",
       "      <td>2.0</td>\n",
       "      <td>reversable defect</td>\n",
       "      <td>1</td>\n",
       "    </tr>\n",
       "    <tr>\n",
       "      <th>3</th>\n",
       "      <td>4</td>\n",
       "      <td>37</td>\n",
       "      <td>Male</td>\n",
       "      <td>Cleveland</td>\n",
       "      <td>non-anginal</td>\n",
       "      <td>130.0</td>\n",
       "      <td>250.0</td>\n",
       "      <td>False</td>\n",
       "      <td>normal</td>\n",
       "      <td>187.0</td>\n",
       "      <td>False</td>\n",
       "      <td>3.5</td>\n",
       "      <td>downsloping</td>\n",
       "      <td>0.0</td>\n",
       "      <td>normal</td>\n",
       "      <td>0</td>\n",
       "    </tr>\n",
       "    <tr>\n",
       "      <th>4</th>\n",
       "      <td>5</td>\n",
       "      <td>41</td>\n",
       "      <td>Female</td>\n",
       "      <td>Cleveland</td>\n",
       "      <td>atypical angina</td>\n",
       "      <td>130.0</td>\n",
       "      <td>204.0</td>\n",
       "      <td>False</td>\n",
       "      <td>lv hypertrophy</td>\n",
       "      <td>172.0</td>\n",
       "      <td>False</td>\n",
       "      <td>1.4</td>\n",
       "      <td>upsloping</td>\n",
       "      <td>0.0</td>\n",
       "      <td>normal</td>\n",
       "      <td>0</td>\n",
       "    </tr>\n",
       "  </tbody>\n",
       "</table>\n",
       "</div>"
      ],
      "text/plain": [
       "   id  age     sex    dataset               cp  trestbps   chol    fbs  \\\n",
       "0   1   63    Male  Cleveland   typical angina     145.0  233.0   True   \n",
       "1   2   67    Male  Cleveland     asymptomatic     160.0  286.0  False   \n",
       "2   3   67    Male  Cleveland     asymptomatic     120.0  229.0  False   \n",
       "3   4   37    Male  Cleveland      non-anginal     130.0  250.0  False   \n",
       "4   5   41  Female  Cleveland  atypical angina     130.0  204.0  False   \n",
       "\n",
       "          restecg  thalch  exang  oldpeak        slope   ca  \\\n",
       "0  lv hypertrophy   150.0  False      2.3  downsloping  0.0   \n",
       "1  lv hypertrophy   108.0   True      1.5         flat  3.0   \n",
       "2  lv hypertrophy   129.0   True      2.6         flat  2.0   \n",
       "3          normal   187.0  False      3.5  downsloping  0.0   \n",
       "4  lv hypertrophy   172.0  False      1.4    upsloping  0.0   \n",
       "\n",
       "                thal  num  \n",
       "0       fixed defect    0  \n",
       "1             normal    2  \n",
       "2  reversable defect    1  \n",
       "3             normal    0  \n",
       "4             normal    0  "
      ]
     },
     "execution_count": 2,
     "metadata": {},
     "output_type": "execute_result"
    }
   ],
   "source": [
    "# Show df to get an idea of the data\n",
    "df.head()"
   ]
  },
  {
   "cell_type": "code",
   "execution_count": 3,
   "id": "ae07ab01",
   "metadata": {},
   "outputs": [
    {
     "data": {
      "text/plain": [
       "(920, 16)"
      ]
     },
     "execution_count": 3,
     "metadata": {},
     "output_type": "execute_result"
    }
   ],
   "source": [
    "# show the shape of the df\n",
    "df.shape"
   ]
  },
  {
   "cell_type": "markdown",
   "id": "83b1a5c2",
   "metadata": {},
   "source": [
    "#### The row of the dataset is represent the records of on patient, it contain records for 920 patients.\n",
    "#### There is 16 column in this dataset. \n",
    "\n",
    "This is an explaniation of each column taken from the [data_source](https://www.kaggle.com/redwankarimsony/heart-disease-data)\n",
    "\n",
    "1. id (Unique id for each patient)\n",
    "2. age (Age of the patient in years)\n",
    "3. origin (place of study)\n",
    "4. sex (Male/Female)\n",
    "5. cp chest pain type (typical angina, atypical angina, non-anginal, asymptomatic)\n",
    "6. trestbps resting blood pressure (resting blood pressure (in mm Hg on admission to the hospital))\n",
    "7. chol (serum cholesterol in mg/dl)\n",
    "8. fbs (if fasting blood sugar > 120 mg/dl)\n",
    "9. restecg (resting electrocardiographic results)Values: normal, stt abnormality, lv hypertrophy\n",
    "10. thalach: maximum heart rate achieved\n",
    "11. exang: exercise-induced angina (True/ False)\n",
    "12. oldpeak: ST depression induced by exercise relative to rest\n",
    "13. slope: the slope of the peak exercise ST segment\n",
    "14. ca: number of major vessels (0-3) colored by fluoroscopy\n",
    "15. thal: normal; fixed defect; reversible defect\n",
    "16. num: the predicted attribute"
   ]
  },
  {
   "cell_type": "code",
   "execution_count": 4,
   "id": "d6dbcc04",
   "metadata": {},
   "outputs": [
    {
     "name": "stdout",
     "output_type": "stream",
     "text": [
      "<class 'pandas.core.frame.DataFrame'>\n",
      "RangeIndex: 920 entries, 0 to 919\n",
      "Data columns (total 16 columns):\n",
      " #   Column    Non-Null Count  Dtype  \n",
      "---  ------    --------------  -----  \n",
      " 0   id        920 non-null    int64  \n",
      " 1   age       920 non-null    int64  \n",
      " 2   sex       920 non-null    object \n",
      " 3   dataset   920 non-null    object \n",
      " 4   cp        920 non-null    object \n",
      " 5   trestbps  861 non-null    float64\n",
      " 6   chol      890 non-null    float64\n",
      " 7   fbs       830 non-null    object \n",
      " 8   restecg   918 non-null    object \n",
      " 9   thalch    865 non-null    float64\n",
      " 10  exang     865 non-null    object \n",
      " 11  oldpeak   858 non-null    float64\n",
      " 12  slope     611 non-null    object \n",
      " 13  ca        309 non-null    float64\n",
      " 14  thal      434 non-null    object \n",
      " 15  num       920 non-null    int64  \n",
      "dtypes: float64(5), int64(3), object(8)\n",
      "memory usage: 115.1+ KB\n"
     ]
    },
    {
     "data": {
      "text/html": [
       "<div>\n",
       "<style scoped>\n",
       "    .dataframe tbody tr th:only-of-type {\n",
       "        vertical-align: middle;\n",
       "    }\n",
       "\n",
       "    .dataframe tbody tr th {\n",
       "        vertical-align: top;\n",
       "    }\n",
       "\n",
       "    .dataframe thead th {\n",
       "        text-align: right;\n",
       "    }\n",
       "</style>\n",
       "<table border=\"1\" class=\"dataframe\">\n",
       "  <thead>\n",
       "    <tr style=\"text-align: right;\">\n",
       "      <th></th>\n",
       "      <th>id</th>\n",
       "      <th>age</th>\n",
       "      <th>trestbps</th>\n",
       "      <th>chol</th>\n",
       "      <th>thalch</th>\n",
       "      <th>oldpeak</th>\n",
       "      <th>ca</th>\n",
       "      <th>num</th>\n",
       "    </tr>\n",
       "  </thead>\n",
       "  <tbody>\n",
       "    <tr>\n",
       "      <th>count</th>\n",
       "      <td>920.000000</td>\n",
       "      <td>920.000000</td>\n",
       "      <td>861.000000</td>\n",
       "      <td>890.000000</td>\n",
       "      <td>865.000000</td>\n",
       "      <td>858.000000</td>\n",
       "      <td>309.000000</td>\n",
       "      <td>920.000000</td>\n",
       "    </tr>\n",
       "    <tr>\n",
       "      <th>mean</th>\n",
       "      <td>460.500000</td>\n",
       "      <td>53.510870</td>\n",
       "      <td>132.132404</td>\n",
       "      <td>199.130337</td>\n",
       "      <td>137.545665</td>\n",
       "      <td>0.878788</td>\n",
       "      <td>0.676375</td>\n",
       "      <td>0.995652</td>\n",
       "    </tr>\n",
       "    <tr>\n",
       "      <th>std</th>\n",
       "      <td>265.725422</td>\n",
       "      <td>9.424685</td>\n",
       "      <td>19.066070</td>\n",
       "      <td>110.780810</td>\n",
       "      <td>25.926276</td>\n",
       "      <td>1.091226</td>\n",
       "      <td>0.935653</td>\n",
       "      <td>1.142693</td>\n",
       "    </tr>\n",
       "    <tr>\n",
       "      <th>min</th>\n",
       "      <td>1.000000</td>\n",
       "      <td>28.000000</td>\n",
       "      <td>0.000000</td>\n",
       "      <td>0.000000</td>\n",
       "      <td>60.000000</td>\n",
       "      <td>-2.600000</td>\n",
       "      <td>0.000000</td>\n",
       "      <td>0.000000</td>\n",
       "    </tr>\n",
       "    <tr>\n",
       "      <th>25%</th>\n",
       "      <td>230.750000</td>\n",
       "      <td>47.000000</td>\n",
       "      <td>120.000000</td>\n",
       "      <td>175.000000</td>\n",
       "      <td>120.000000</td>\n",
       "      <td>0.000000</td>\n",
       "      <td>0.000000</td>\n",
       "      <td>0.000000</td>\n",
       "    </tr>\n",
       "    <tr>\n",
       "      <th>50%</th>\n",
       "      <td>460.500000</td>\n",
       "      <td>54.000000</td>\n",
       "      <td>130.000000</td>\n",
       "      <td>223.000000</td>\n",
       "      <td>140.000000</td>\n",
       "      <td>0.500000</td>\n",
       "      <td>0.000000</td>\n",
       "      <td>1.000000</td>\n",
       "    </tr>\n",
       "    <tr>\n",
       "      <th>75%</th>\n",
       "      <td>690.250000</td>\n",
       "      <td>60.000000</td>\n",
       "      <td>140.000000</td>\n",
       "      <td>268.000000</td>\n",
       "      <td>157.000000</td>\n",
       "      <td>1.500000</td>\n",
       "      <td>1.000000</td>\n",
       "      <td>2.000000</td>\n",
       "    </tr>\n",
       "    <tr>\n",
       "      <th>max</th>\n",
       "      <td>920.000000</td>\n",
       "      <td>77.000000</td>\n",
       "      <td>200.000000</td>\n",
       "      <td>603.000000</td>\n",
       "      <td>202.000000</td>\n",
       "      <td>6.200000</td>\n",
       "      <td>3.000000</td>\n",
       "      <td>4.000000</td>\n",
       "    </tr>\n",
       "  </tbody>\n",
       "</table>\n",
       "</div>"
      ],
      "text/plain": [
       "               id         age    trestbps        chol      thalch     oldpeak  \\\n",
       "count  920.000000  920.000000  861.000000  890.000000  865.000000  858.000000   \n",
       "mean   460.500000   53.510870  132.132404  199.130337  137.545665    0.878788   \n",
       "std    265.725422    9.424685   19.066070  110.780810   25.926276    1.091226   \n",
       "min      1.000000   28.000000    0.000000    0.000000   60.000000   -2.600000   \n",
       "25%    230.750000   47.000000  120.000000  175.000000  120.000000    0.000000   \n",
       "50%    460.500000   54.000000  130.000000  223.000000  140.000000    0.500000   \n",
       "75%    690.250000   60.000000  140.000000  268.000000  157.000000    1.500000   \n",
       "max    920.000000   77.000000  200.000000  603.000000  202.000000    6.200000   \n",
       "\n",
       "               ca         num  \n",
       "count  309.000000  920.000000  \n",
       "mean     0.676375    0.995652  \n",
       "std      0.935653    1.142693  \n",
       "min      0.000000    0.000000  \n",
       "25%      0.000000    0.000000  \n",
       "50%      0.000000    1.000000  \n",
       "75%      1.000000    2.000000  \n",
       "max      3.000000    4.000000  "
      ]
     },
     "execution_count": 4,
     "metadata": {},
     "output_type": "execute_result"
    }
   ],
   "source": [
    "# explore some info about the dataset\n",
    "df.info()\n",
    "df.describe()"
   ]
  },
  {
   "cell_type": "markdown",
   "id": "47d7498c",
   "metadata": {},
   "source": [
    "### Data cleaning"
   ]
  },
  {
   "cell_type": "code",
   "execution_count": 5,
   "id": "c7c5fc9e",
   "metadata": {},
   "outputs": [],
   "source": [
    "# drop unwanted columns\n",
    "df.drop(columns=['dataset','slope' ],inplace=True,axis=1)"
   ]
  },
  {
   "cell_type": "code",
   "execution_count": 6,
   "id": "d65ccf3b",
   "metadata": {},
   "outputs": [
    {
     "data": {
      "text/plain": [
       "0"
      ]
     },
     "execution_count": 6,
     "metadata": {},
     "output_type": "execute_result"
    }
   ],
   "source": [
    "#identify whether or not there are duplicated rows\n",
    "df.duplicated().sum()"
   ]
  },
  {
   "cell_type": "code",
   "execution_count": 7,
   "id": "a9fbdcc6",
   "metadata": {},
   "outputs": [
    {
     "data": {
      "text/plain": [
       "id            0\n",
       "age           0\n",
       "sex           0\n",
       "cp            0\n",
       "trestbps     59\n",
       "chol         30\n",
       "fbs          90\n",
       "restecg       2\n",
       "thalch       55\n",
       "exang        55\n",
       "oldpeak      62\n",
       "ca          611\n",
       "thal        486\n",
       "num           0\n",
       "dtype: int64"
      ]
     },
     "execution_count": 7,
     "metadata": {},
     "output_type": "execute_result"
    }
   ],
   "source": [
    "#How many missing values in the dataset? \n",
    "df.isnull().sum()"
   ]
  },
  {
   "cell_type": "code",
   "execution_count": 8,
   "id": "7d5ed608",
   "metadata": {},
   "outputs": [],
   "source": [
    "# create a functions to remove the null values/ zeros from numerical columns\n",
    "\n",
    "def clean_col(df,col_to_clean):\n",
    "    '''\n",
    "    INPUT:\n",
    "    df- The source dataframe\n",
    "    col_to_clean- a list of columns with null values\n",
    "    \n",
    "    OUTPUT:\n",
    "    df - a new dataframe after replacing the null values and zero values with the the mean value of its heart \n",
    "    attack class (num col)\n",
    "    '''\n",
    "    # change the null valuees with the mean of its heart attack class (num column) :\n",
    "    for col in  col_to_clean:\n",
    "        col_class_mean= df.groupby('num').mean()[col]\n",
    "        for i in range(df.shape[0]):\n",
    "            if pd.isnull(df.loc[i,col])== True or df.loc[i,col]==0 :\n",
    "                if df.num[i]==0:\n",
    "                    df.loc[i,col]= col_class_mean[0]\n",
    "                elif df.num[i]==1:\n",
    "                    df.loc[i,col]= col_class_mean[1]\n",
    "                elif df.num[i]==2:\n",
    "                    df.loc[i,col]= col_class_mean[2]\n",
    "                elif df.num[i]==3:\n",
    "                    df.loc[i,col]= col_class_mean[3]\n",
    "                else:\n",
    "                    df.loc[i,col]= col_class_mean[4]\n",
    "\n",
    "    return df"
   ]
  },
  {
   "cell_type": "code",
   "execution_count": 9,
   "id": "7f08d278",
   "metadata": {},
   "outputs": [],
   "source": [
    "# remove the null values/ zeros from trestbps,chol,thalch,oldpeak columns\n",
    "col_to_clean= ['trestbps','chol','thalch','oldpeak']\n",
    "df= clean_col(df,col_to_clean)\n"
   ]
  },
  {
   "cell_type": "code",
   "execution_count": 10,
   "id": "846fbf5b",
   "metadata": {},
   "outputs": [
    {
     "data": {
      "text/plain": [
       "id            0\n",
       "age           0\n",
       "sex           0\n",
       "cp            0\n",
       "trestbps      0\n",
       "chol          0\n",
       "fbs          90\n",
       "restecg       2\n",
       "thalch        0\n",
       "exang        55\n",
       "oldpeak       0\n",
       "ca          611\n",
       "thal        486\n",
       "num           0\n",
       "dtype: int64"
      ]
     },
     "execution_count": 10,
     "metadata": {},
     "output_type": "execute_result"
    }
   ],
   "source": [
    "#How many missing values in the dataset? \n",
    "df.isnull().sum()"
   ]
  },
  {
   "cell_type": "code",
   "execution_count": 11,
   "id": "4d4286c6",
   "metadata": {},
   "outputs": [
    {
     "data": {
      "text/html": [
       "<div>\n",
       "<style scoped>\n",
       "    .dataframe tbody tr th:only-of-type {\n",
       "        vertical-align: middle;\n",
       "    }\n",
       "\n",
       "    .dataframe tbody tr th {\n",
       "        vertical-align: top;\n",
       "    }\n",
       "\n",
       "    .dataframe thead th {\n",
       "        text-align: right;\n",
       "    }\n",
       "</style>\n",
       "<table border=\"1\" class=\"dataframe\">\n",
       "  <thead>\n",
       "    <tr style=\"text-align: right;\">\n",
       "      <th></th>\n",
       "      <th>id</th>\n",
       "      <th>age</th>\n",
       "      <th>sex</th>\n",
       "      <th>cp</th>\n",
       "      <th>trestbps</th>\n",
       "      <th>chol</th>\n",
       "      <th>fbs</th>\n",
       "      <th>restecg</th>\n",
       "      <th>thalch</th>\n",
       "      <th>exang</th>\n",
       "      <th>oldpeak</th>\n",
       "      <th>num</th>\n",
       "    </tr>\n",
       "  </thead>\n",
       "  <tbody>\n",
       "    <tr>\n",
       "      <th>0</th>\n",
       "      <td>1</td>\n",
       "      <td>63</td>\n",
       "      <td>Male</td>\n",
       "      <td>typical angina</td>\n",
       "      <td>145.0</td>\n",
       "      <td>233.0</td>\n",
       "      <td>True</td>\n",
       "      <td>lv hypertrophy</td>\n",
       "      <td>150.0</td>\n",
       "      <td>False</td>\n",
       "      <td>2.3</td>\n",
       "      <td>0</td>\n",
       "    </tr>\n",
       "    <tr>\n",
       "      <th>1</th>\n",
       "      <td>2</td>\n",
       "      <td>67</td>\n",
       "      <td>Male</td>\n",
       "      <td>asymptomatic</td>\n",
       "      <td>160.0</td>\n",
       "      <td>286.0</td>\n",
       "      <td>False</td>\n",
       "      <td>lv hypertrophy</td>\n",
       "      <td>108.0</td>\n",
       "      <td>True</td>\n",
       "      <td>1.5</td>\n",
       "      <td>2</td>\n",
       "    </tr>\n",
       "    <tr>\n",
       "      <th>2</th>\n",
       "      <td>3</td>\n",
       "      <td>67</td>\n",
       "      <td>Male</td>\n",
       "      <td>asymptomatic</td>\n",
       "      <td>120.0</td>\n",
       "      <td>229.0</td>\n",
       "      <td>False</td>\n",
       "      <td>lv hypertrophy</td>\n",
       "      <td>129.0</td>\n",
       "      <td>True</td>\n",
       "      <td>2.6</td>\n",
       "      <td>1</td>\n",
       "    </tr>\n",
       "    <tr>\n",
       "      <th>3</th>\n",
       "      <td>4</td>\n",
       "      <td>37</td>\n",
       "      <td>Male</td>\n",
       "      <td>non-anginal</td>\n",
       "      <td>130.0</td>\n",
       "      <td>250.0</td>\n",
       "      <td>False</td>\n",
       "      <td>normal</td>\n",
       "      <td>187.0</td>\n",
       "      <td>False</td>\n",
       "      <td>3.5</td>\n",
       "      <td>0</td>\n",
       "    </tr>\n",
       "    <tr>\n",
       "      <th>4</th>\n",
       "      <td>5</td>\n",
       "      <td>41</td>\n",
       "      <td>Female</td>\n",
       "      <td>atypical angina</td>\n",
       "      <td>130.0</td>\n",
       "      <td>204.0</td>\n",
       "      <td>False</td>\n",
       "      <td>lv hypertrophy</td>\n",
       "      <td>172.0</td>\n",
       "      <td>False</td>\n",
       "      <td>1.4</td>\n",
       "      <td>0</td>\n",
       "    </tr>\n",
       "  </tbody>\n",
       "</table>\n",
       "</div>"
      ],
      "text/plain": [
       "   id  age     sex               cp  trestbps   chol    fbs         restecg  \\\n",
       "0   1   63    Male   typical angina     145.0  233.0   True  lv hypertrophy   \n",
       "1   2   67    Male     asymptomatic     160.0  286.0  False  lv hypertrophy   \n",
       "2   3   67    Male     asymptomatic     120.0  229.0  False  lv hypertrophy   \n",
       "3   4   37    Male      non-anginal     130.0  250.0  False          normal   \n",
       "4   5   41  Female  atypical angina     130.0  204.0  False  lv hypertrophy   \n",
       "\n",
       "   thalch  exang  oldpeak  num  \n",
       "0   150.0  False      2.3    0  \n",
       "1   108.0   True      1.5    2  \n",
       "2   129.0   True      2.6    1  \n",
       "3   187.0  False      3.5    0  \n",
       "4   172.0  False      1.4    0  "
      ]
     },
     "execution_count": 11,
     "metadata": {},
     "output_type": "execute_result"
    }
   ],
   "source": [
    "# remove the columns that have null values greater than 50%\n",
    "most_missing_cols = set(df.columns[df.isnull().mean()>= 0.5]) #Provide a set of columns with more than 50% of the values missing\n",
    "for col in df.columns:\n",
    "    if col in most_missing_cols:\n",
    "        df.drop(col, axis=1, inplace=True)\n",
    "df.head()"
   ]
  },
  {
   "cell_type": "code",
   "execution_count": 12,
   "id": "99e43467",
   "metadata": {},
   "outputs": [],
   "source": [
    "# create a functions to remove the null values in boolean cols\n",
    "\n",
    "def clean_bool_col(df,col_to_clean):\n",
    "    '''\n",
    "    INPUT:\n",
    "    df - The source dataframe\n",
    "    col_to_clean- a list of columns with null values\n",
    "    \n",
    "    OUTPUT:\n",
    "    df - a new dataframe after replacing the null values and with the the mean value of its heart \n",
    "    attack class (num col)\n",
    "    '''\n",
    "    # change the null valuees with the mean blood pressure of its heart attack class (num column) :\n",
    "    for col in  col_to_clean:\n",
    "        df[col]= df[col].astype(np.float32)\n",
    "        col_class_mean= round(df.groupby('num').mean()[col])\n",
    "        for i in range(df.shape[0]):\n",
    "            if pd.isnull(df.loc[i,col])== True:\n",
    "                if df.num[i]==0:\n",
    "                    df.loc[i,col]= col_class_mean[0]\n",
    "                elif df.num[i]==1:\n",
    "                    df.loc[i,col]= col_class_mean[1]\n",
    "                elif df.num[i]==2:\n",
    "                    df.loc[i,col]= col_class_mean[2]\n",
    "                elif df.num[i]==3:\n",
    "                    df.loc[i,col]= col_class_mean[3]\n",
    "                else:\n",
    "                    df.loc[i,col]= col_class_mean[4]\n",
    "\n",
    "    return df"
   ]
  },
  {
   "cell_type": "code",
   "execution_count": 13,
   "id": "ea172640",
   "metadata": {},
   "outputs": [],
   "source": [
    "# remove the null values in boolean cols\n",
    "col_to_clean= ['fbs','exang']\n",
    "df= clean_bool_col(df,col_to_clean)"
   ]
  },
  {
   "cell_type": "code",
   "execution_count": 14,
   "id": "93b8c1fb",
   "metadata": {},
   "outputs": [],
   "source": [
    "# drop the null col in restecg col\n",
    "df.dropna(axis=0,subset=['restecg'], inplace= True)"
   ]
  },
  {
   "cell_type": "code",
   "execution_count": 15,
   "id": "3901a620",
   "metadata": {},
   "outputs": [
    {
     "data": {
      "text/plain": [
       "id          0\n",
       "age         0\n",
       "sex         0\n",
       "cp          0\n",
       "trestbps    0\n",
       "chol        0\n",
       "fbs         0\n",
       "restecg     0\n",
       "thalch      0\n",
       "exang       0\n",
       "oldpeak     0\n",
       "num         0\n",
       "dtype: int64"
      ]
     },
     "execution_count": 15,
     "metadata": {},
     "output_type": "execute_result"
    }
   ],
   "source": [
    "#How many missing values in the dataset? \n",
    "df.isnull().sum()"
   ]
  },
  {
   "cell_type": "markdown",
   "id": "41c19804",
   "metadata": {},
   "source": [
    "### Data Visualization"
   ]
  },
  {
   "cell_type": "code",
   "execution_count": 16,
   "id": "825c0bb7",
   "metadata": {},
   "outputs": [
    {
     "data": {
      "text/plain": [
       "array([[<AxesSubplot:title={'center':'age'}>],\n",
       "       [<AxesSubplot:title={'center':'trestbps'}>],\n",
       "       [<AxesSubplot:title={'center':'chol'}>],\n",
       "       [<AxesSubplot:title={'center':'thalch'}>],\n",
       "       [<AxesSubplot:title={'center':'oldpeak'}>],\n",
       "       [<AxesSubplot:title={'center':'num'}>],\n",
       "       [<AxesSubplot:>],\n",
       "       [<AxesSubplot:>],\n",
       "       [<AxesSubplot:>]], dtype=object)"
      ]
     },
     "execution_count": 16,
     "metadata": {},
     "output_type": "execute_result"
    },
    {
     "data": {
      "image/png": "[encoded data removed]",
      "text/plain": [
       "<Figure size 720x2160 with 9 Axes>"
      ]
     },
     "metadata": {
      "needs_background": "light"
     },
     "output_type": "display_data"
    }
   ],
   "source": [
    "# create a histogram of the numerical columns \n",
    "df.hist(column= ['age','trestbps','chol','thalch','oldpeak', 'num'],layout=(9,1),figsize=(10,30) )"
   ]
  },
  {
   "cell_type": "code",
   "execution_count": 17,
   "id": "7def4ed7",
   "metadata": {},
   "outputs": [
    {
     "data": {
      "text/plain": [
       "<AxesSubplot:xlabel='sex', ylabel='Probability'>"
      ]
     },
     "execution_count": 17,
     "metadata": {},
     "output_type": "execute_result"
    },
    {
     "data": {
      "image/png": "[encoded data removed]",
      "text/plain": [
       "<Figure size 432x288 with 1 Axes>"
      ]
     },
     "metadata": {
      "needs_background": "light"
     },
     "output_type": "display_data"
    }
   ],
   "source": [
    "# create a histogram to find the relationship between the probability of getting a heart attack and the sex of the patient\n",
    "sns.histplot(df, x= 'sex', hue= 'num', stat='probability',bins=6)"
   ]
  },
  {
   "cell_type": "code",
   "execution_count": 18,
   "id": "75b3b795",
   "metadata": {},
   "outputs": [
    {
     "data": {
      "text/plain": [
       "<AxesSubplot:xlabel='age', ylabel='Probability'>"
      ]
     },
     "execution_count": 18,
     "metadata": {},
     "output_type": "execute_result"
    },
    {
     "data": {
      "image/png": "[encoded data removed]",
      "text/plain": [
       "<Figure size 432x288 with 1 Axes>"
      ]
     },
     "metadata": {
      "needs_background": "light"
     },
     "output_type": "display_data"
    }
   ],
   "source": [
    "# create a histogram to find the relationship between the probability of getting a heart attack and the age of the patient\n",
    "sns.histplot(df, x= 'age', hue= 'num', stat='probability',bins=6)"
   ]
  },
  {
   "cell_type": "code",
   "execution_count": 19,
   "id": "a60dd06d",
   "metadata": {},
   "outputs": [
    {
     "data": {
      "text/plain": [
       "<AxesSubplot:xlabel='trestbps', ylabel='Probability'>"
      ]
     },
     "execution_count": 19,
     "metadata": {},
     "output_type": "execute_result"
    },
    {
     "data": {
      "image/png": "[encoded data removed]",
      "text/plain": [
       "<Figure size 432x288 with 1 Axes>"
      ]
     },
     "metadata": {
      "needs_background": "light"
     },
     "output_type": "display_data"
    }
   ],
   "source": [
    "# create a histogram to find the relationship between the probability of getting a heart attack and the blood pressure of the patient\n",
    "sns.histplot(df, x= 'trestbps', hue= 'num', stat='probability',bins=4)"
   ]
  },
  {
   "cell_type": "code",
   "execution_count": 20,
   "id": "95768052",
   "metadata": {},
   "outputs": [
    {
     "data": {
      "text/plain": [
       "<AxesSubplot:xlabel='chol', ylabel='Probability'>"
      ]
     },
     "execution_count": 20,
     "metadata": {},
     "output_type": "execute_result"
    },
    {
     "data": {
      "image/png": "[encoded data removed]",
      "text/plain": [
       "<Figure size 432x288 with 1 Axes>"
      ]
     },
     "metadata": {
      "needs_background": "light"
     },
     "output_type": "display_data"
    }
   ],
   "source": [
    "# create a histogram to find the relationship between the probability of getting a heart attack and the cholesterol level of the patient\n",
    "sns.histplot(df, x= 'chol', hue= 'num', stat='probability',bins=7)"
   ]
  },
  {
   "cell_type": "markdown",
   "id": "33c2e9bf",
   "metadata": {},
   "source": [
    "## Methodology"
   ]
  },
  {
   "cell_type": "markdown",
   "id": "9b3c79f5",
   "metadata": {},
   "source": [
    "### Data Preprocessing"
   ]
  },
  {
   "cell_type": "code",
   "execution_count": 21,
   "id": "98e98a02",
   "metadata": {},
   "outputs": [],
   "source": [
    "# Convert the sex column to binary column\n",
    "df['sex']= df['sex'].map(dict(Male=1, Female=0))"
   ]
  },
  {
   "cell_type": "code",
   "execution_count": 22,
   "id": "82a208d5",
   "metadata": {},
   "outputs": [],
   "source": [
    "# create a function to encode the categorical variables:\n",
    "\n",
    "def encode_cat(dataFrame,col_to_encode,dummy_na=True):\n",
    "    '''\n",
    "    INPUT:\n",
    "    dataFrame - The source dataframe that contain the column with categorical variables\n",
    "    col_to_encode - The column that is wanted to create dummy variables for it\n",
    "    dummy_na -  A boolean variable that decided whether or not a dummy variable is wanted for NaN\n",
    "                it is true by default \n",
    "    \n",
    "    OUTPUT:\n",
    "    df - a new dataframe with the dummy variables columns, after removing the original column \n",
    "         that is encoded \n",
    "    '''\n",
    "    for col in  col_to_encode:\n",
    "        #drop the col\n",
    "        df1=dataFrame.drop(col, axis=1)\n",
    "        #create a dummy variable\n",
    "        df2=pd.get_dummies(dataFrame[col], prefix=col, dummy_na=False)\n",
    "        #concatenation of the df1 and df2\n",
    "        dataFrame = pd.concat([df1,df2], axis=1)\n",
    "\n",
    "    return dataFrame"
   ]
  },
  {
   "cell_type": "code",
   "execution_count": 23,
   "id": "cf943499",
   "metadata": {},
   "outputs": [],
   "source": [
    "# encode categorical variables\n",
    "cols_to_encode=['cp','restecg','num']\n",
    "df=encode_cat(df,cols_to_encode)"
   ]
  },
  {
   "cell_type": "code",
   "execution_count": 24,
   "id": "210441a0",
   "metadata": {},
   "outputs": [
    {
     "data": {
      "text/html": [
       "<div>\n",
       "<style scoped>\n",
       "    .dataframe tbody tr th:only-of-type {\n",
       "        vertical-align: middle;\n",
       "    }\n",
       "\n",
       "    .dataframe tbody tr th {\n",
       "        vertical-align: top;\n",
       "    }\n",
       "\n",
       "    .dataframe thead th {\n",
       "        text-align: right;\n",
       "    }\n",
       "</style>\n",
       "<table border=\"1\" class=\"dataframe\">\n",
       "  <thead>\n",
       "    <tr style=\"text-align: right;\">\n",
       "      <th></th>\n",
       "      <th>id</th>\n",
       "      <th>age</th>\n",
       "      <th>sex</th>\n",
       "      <th>trestbps</th>\n",
       "      <th>chol</th>\n",
       "      <th>fbs</th>\n",
       "      <th>thalch</th>\n",
       "      <th>exang</th>\n",
       "      <th>oldpeak</th>\n",
       "      <th>cp_asymptomatic</th>\n",
       "      <th>...</th>\n",
       "      <th>cp_non-anginal</th>\n",
       "      <th>cp_typical angina</th>\n",
       "      <th>restecg_lv hypertrophy</th>\n",
       "      <th>restecg_normal</th>\n",
       "      <th>restecg_st-t abnormality</th>\n",
       "      <th>num_0</th>\n",
       "      <th>num_1</th>\n",
       "      <th>num_2</th>\n",
       "      <th>num_3</th>\n",
       "      <th>num_4</th>\n",
       "    </tr>\n",
       "  </thead>\n",
       "  <tbody>\n",
       "    <tr>\n",
       "      <th>0</th>\n",
       "      <td>1</td>\n",
       "      <td>63</td>\n",
       "      <td>1</td>\n",
       "      <td>145.0</td>\n",
       "      <td>233.0</td>\n",
       "      <td>1.0</td>\n",
       "      <td>150.0</td>\n",
       "      <td>0.0</td>\n",
       "      <td>2.3</td>\n",
       "      <td>0</td>\n",
       "      <td>...</td>\n",
       "      <td>0</td>\n",
       "      <td>1</td>\n",
       "      <td>1</td>\n",
       "      <td>0</td>\n",
       "      <td>0</td>\n",
       "      <td>1</td>\n",
       "      <td>0</td>\n",
       "      <td>0</td>\n",
       "      <td>0</td>\n",
       "      <td>0</td>\n",
       "    </tr>\n",
       "    <tr>\n",
       "      <th>1</th>\n",
       "      <td>2</td>\n",
       "      <td>67</td>\n",
       "      <td>1</td>\n",
       "      <td>160.0</td>\n",
       "      <td>286.0</td>\n",
       "      <td>0.0</td>\n",
       "      <td>108.0</td>\n",
       "      <td>1.0</td>\n",
       "      <td>1.5</td>\n",
       "      <td>1</td>\n",
       "      <td>...</td>\n",
       "      <td>0</td>\n",
       "      <td>0</td>\n",
       "      <td>1</td>\n",
       "      <td>0</td>\n",
       "      <td>0</td>\n",
       "      <td>0</td>\n",
       "      <td>0</td>\n",
       "      <td>1</td>\n",
       "      <td>0</td>\n",
       "      <td>0</td>\n",
       "    </tr>\n",
       "    <tr>\n",
       "      <th>2</th>\n",
       "      <td>3</td>\n",
       "      <td>67</td>\n",
       "      <td>1</td>\n",
       "      <td>120.0</td>\n",
       "      <td>229.0</td>\n",
       "      <td>0.0</td>\n",
       "      <td>129.0</td>\n",
       "      <td>1.0</td>\n",
       "      <td>2.6</td>\n",
       "      <td>1</td>\n",
       "      <td>...</td>\n",
       "      <td>0</td>\n",
       "      <td>0</td>\n",
       "      <td>1</td>\n",
       "      <td>0</td>\n",
       "      <td>0</td>\n",
       "      <td>0</td>\n",
       "      <td>1</td>\n",
       "      <td>0</td>\n",
       "      <td>0</td>\n",
       "      <td>0</td>\n",
       "    </tr>\n",
       "    <tr>\n",
       "      <th>3</th>\n",
       "      <td>4</td>\n",
       "      <td>37</td>\n",
       "      <td>1</td>\n",
       "      <td>130.0</td>\n",
       "      <td>250.0</td>\n",
       "      <td>0.0</td>\n",
       "      <td>187.0</td>\n",
       "      <td>0.0</td>\n",
       "      <td>3.5</td>\n",
       "      <td>0</td>\n",
       "      <td>...</td>\n",
       "      <td>1</td>\n",
       "      <td>0</td>\n",
       "      <td>0</td>\n",
       "      <td>1</td>\n",
       "      <td>0</td>\n",
       "      <td>1</td>\n",
       "      <td>0</td>\n",
       "      <td>0</td>\n",
       "      <td>0</td>\n",
       "      <td>0</td>\n",
       "    </tr>\n",
       "    <tr>\n",
       "      <th>4</th>\n",
       "      <td>5</td>\n",
       "      <td>41</td>\n",
       "      <td>0</td>\n",
       "      <td>130.0</td>\n",
       "      <td>204.0</td>\n",
       "      <td>0.0</td>\n",
       "      <td>172.0</td>\n",
       "      <td>0.0</td>\n",
       "      <td>1.4</td>\n",
       "      <td>0</td>\n",
       "      <td>...</td>\n",
       "      <td>0</td>\n",
       "      <td>0</td>\n",
       "      <td>1</td>\n",
       "      <td>0</td>\n",
       "      <td>0</td>\n",
       "      <td>1</td>\n",
       "      <td>0</td>\n",
       "      <td>0</td>\n",
       "      <td>0</td>\n",
       "      <td>0</td>\n",
       "    </tr>\n",
       "  </tbody>\n",
       "</table>\n",
       "<p>5 rows × 21 columns</p>\n",
       "</div>"
      ],
      "text/plain": [
       "   id  age  sex  trestbps   chol  fbs  thalch  exang  oldpeak  \\\n",
       "0   1   63    1     145.0  233.0  1.0   150.0    0.0      2.3   \n",
       "1   2   67    1     160.0  286.0  0.0   108.0    1.0      1.5   \n",
       "2   3   67    1     120.0  229.0  0.0   129.0    1.0      2.6   \n",
       "3   4   37    1     130.0  250.0  0.0   187.0    0.0      3.5   \n",
       "4   5   41    0     130.0  204.0  0.0   172.0    0.0      1.4   \n",
       "\n",
       "   cp_asymptomatic  ...  cp_non-anginal  cp_typical angina  \\\n",
       "0                0  ...               0                  1   \n",
       "1                1  ...               0                  0   \n",
       "2                1  ...               0                  0   \n",
       "3                0  ...               1                  0   \n",
       "4                0  ...               0                  0   \n",
       "\n",
       "   restecg_lv hypertrophy  restecg_normal  restecg_st-t abnormality  num_0  \\\n",
       "0                       1               0                         0      1   \n",
       "1                       1               0                         0      0   \n",
       "2                       1               0                         0      0   \n",
       "3                       0               1                         0      1   \n",
       "4                       1               0                         0      1   \n",
       "\n",
       "   num_1  num_2  num_3  num_4  \n",
       "0      0      0      0      0  \n",
       "1      0      1      0      0  \n",
       "2      1      0      0      0  \n",
       "3      0      0      0      0  \n",
       "4      0      0      0      0  \n",
       "\n",
       "[5 rows x 21 columns]"
      ]
     },
     "execution_count": 24,
     "metadata": {},
     "output_type": "execute_result"
    }
   ],
   "source": [
    "df.head()"
   ]
  },
  {
   "cell_type": "markdown",
   "id": "7fa95583",
   "metadata": {},
   "source": [
    "### Implementation"
   ]
  },
  {
   "cell_type": "markdown",
   "id": "46f3c686",
   "metadata": {},
   "source": [
    "### ML Pipeline "
   ]
  },
  {
   "cell_type": "code",
   "execution_count": 25,
   "id": "2cdfc612",
   "metadata": {},
   "outputs": [],
   "source": [
    "from sklearn.model_selection import train_test_split\n",
    "# define the features and the predction variable\n",
    "X= df.drop(['num_0','num_1','num_2','num_3','num_4'],axis=1).values\n",
    "Y= df[['num_0','num_1','num_2','num_3','num_4']].values\n",
    "#split the data to training and testing datasets\n",
    "X_train, X_test, Y_train, Y_test = train_test_split(X,Y, test_size = 0.20, random_state=7)"
   ]
  },
  {
   "cell_type": "markdown",
   "id": "140329b8",
   "metadata": {},
   "source": [
    "#### 1.  MLP Classifier"
   ]
  },
  {
   "cell_type": "code",
   "execution_count": 26,
   "id": "063cf705",
   "metadata": {},
   "outputs": [
    {
     "data": {
      "text/plain": [
       "MLPClassifier()"
      ]
     },
     "execution_count": 26,
     "metadata": {},
     "output_type": "execute_result"
    }
   ],
   "source": [
    "from sklearn.neural_network import MLPClassifier\n",
    "# build the model\n",
    "MLP= MLPClassifier()\n",
    "# fit the model to the datasets\n",
    "MLP.fit(X_train,Y_train)"
   ]
  },
  {
   "cell_type": "code",
   "execution_count": 27,
   "id": "90391edb",
   "metadata": {},
   "outputs": [],
   "source": [
    "#predict the propability of getting heart attack\n",
    "y_pred= MLP.predict(X_test)"
   ]
  },
  {
   "cell_type": "code",
   "execution_count": 29,
   "id": "159eeb3b",
   "metadata": {},
   "outputs": [
    {
     "name": "stdout",
     "output_type": "stream",
     "text": [
      "              precision    recall  f1-score   support\n",
      "\n",
      "           0       0.79      0.95      0.86        82\n",
      "           1       0.82      0.62      0.70        52\n",
      "           2       0.64      0.29      0.40        24\n",
      "           3       0.00      0.00      0.00        19\n",
      "           4       0.00      0.00      0.00         7\n",
      "\n",
      "   micro avg       0.78      0.64      0.70       184\n",
      "   macro avg       0.45      0.37      0.39       184\n",
      "weighted avg       0.67      0.64      0.64       184\n",
      " samples avg       0.61      0.64      0.62       184\n",
      "\n"
     ]
    },
    {
     "name": "stderr",
     "output_type": "stream",
     "text": [
      "C:\\Users\\gftaw\\anaconda3\\lib\\site-packages\\sklearn\\metrics\\_classification.py:1245: UndefinedMetricWarning: Precision and F-score are ill-defined and being set to 0.0 in labels with no predicted samples. Use `zero_division` parameter to control this behavior.\n",
      "  _warn_prf(average, modifier, msg_start, len(result))\n",
      "C:\\Users\\gftaw\\anaconda3\\lib\\site-packages\\sklearn\\metrics\\_classification.py:1245: UndefinedMetricWarning: Precision and F-score are ill-defined and being set to 0.0 in samples with no predicted labels. Use `zero_division` parameter to control this behavior.\n",
      "  _warn_prf(average, modifier, msg_start, len(result))\n"
     ]
    }
   ],
   "source": [
    "# evaluate the model\n",
    "from sklearn.metrics import classification_report\n",
    "print(classification_report(Y_test,y_pred))"
   ]
  },
  {
   "cell_type": "code",
   "execution_count": 32,
   "id": "8824ea95",
   "metadata": {},
   "outputs": [
    {
     "name": "stdout",
     "output_type": "stream",
     "text": [
      "accuracy_score is 0.5869565217391305\n"
     ]
    }
   ],
   "source": [
    "from sklearn import metrics\n",
    "score=metrics.accuracy_score(Y_test,y_pred)\n",
    "print('accuracy_score is',score)"
   ]
  },
  {
   "cell_type": "markdown",
   "id": "fcc79ff5",
   "metadata": {},
   "source": [
    "#### Refinement"
   ]
  },
  {
   "cell_type": "code",
   "execution_count": 34,
   "id": "c6bc33ec",
   "metadata": {},
   "outputs": [
    {
     "name": "stderr",
     "output_type": "stream",
     "text": [
      "C:\\Users\\gftaw\\anaconda3\\lib\\site-packages\\sklearn\\neural_network\\_multilayer_perceptron.py:614: ConvergenceWarning: Stochastic Optimizer: Maximum iterations (500) reached and the optimization hasn't converged yet.\n",
      "  warnings.warn(\n"
     ]
    }
   ],
   "source": [
    "from sklearn.model_selection import GridSearchCV\n",
    "parameters = {\n",
    "    'activation' : ['identity', 'logistic', 'tanh', 'relu'],\n",
    "    'alpha': [0.0001,0.001,0.01,0.1],\n",
    "    'solver' : ['lbfgs', 'sgd', 'adam'],\n",
    "    'learning_rate' : ['constant', 'invscaling', 'adaptive'],\n",
    "    'max_iter': [500],\n",
    "   \n",
    "}\n",
    "\n",
    "grid_obj = GridSearchCV(\n",
    "    estimator=MLP,\n",
    "    param_grid=parameters,\n",
    "    n_jobs=-1,\n",
    "    cv=3\n",
    ")\n",
    "grid_obj.fit(X_train,Y_train)\n",
    "y_pred= grid_obj.predict(X_test)"
   ]
  },
  {
   "cell_type": "code",
   "execution_count": 35,
   "id": "0f3e0a8e",
   "metadata": {},
   "outputs": [
    {
     "name": "stdout",
     "output_type": "stream",
     "text": [
      "              precision    recall  f1-score   support\n",
      "\n",
      "           0       0.89      0.91      0.90        82\n",
      "           1       0.79      0.65      0.72        52\n",
      "           2       0.83      0.42      0.56        24\n",
      "           3       0.75      0.16      0.26        19\n",
      "           4       0.00      0.00      0.00         7\n",
      "\n",
      "   micro avg       0.85      0.66      0.75       184\n",
      "   macro avg       0.65      0.43      0.49       184\n",
      "weighted avg       0.81      0.66      0.70       184\n",
      " samples avg       0.66      0.66      0.66       184\n",
      "\n"
     ]
    },
    {
     "name": "stderr",
     "output_type": "stream",
     "text": [
      "C:\\Users\\gftaw\\anaconda3\\lib\\site-packages\\sklearn\\metrics\\_classification.py:1245: UndefinedMetricWarning: Precision and F-score are ill-defined and being set to 0.0 in labels with no predicted samples. Use `zero_division` parameter to control this behavior.\n",
      "  _warn_prf(average, modifier, msg_start, len(result))\n",
      "C:\\Users\\gftaw\\anaconda3\\lib\\site-packages\\sklearn\\metrics\\_classification.py:1245: UndefinedMetricWarning: Precision and F-score are ill-defined and being set to 0.0 in samples with no predicted labels. Use `zero_division` parameter to control this behavior.\n",
      "  _warn_prf(average, modifier, msg_start, len(result))\n"
     ]
    }
   ],
   "source": [
    "# evaluate the model\n",
    "print(classification_report(Y_test,y_pred))"
   ]
  },
  {
   "cell_type": "code",
   "execution_count": 36,
   "id": "2a716b40",
   "metadata": {},
   "outputs": [
    {
     "name": "stdout",
     "output_type": "stream",
     "text": [
      "accuracy_score is 0.657608695652174\n"
     ]
    }
   ],
   "source": [
    "score=metrics.accuracy_score(Y_test,y_pred)\n",
    "print('accuracy_score is',score)"
   ]
  },
  {
   "cell_type": "code",
   "execution_count": 37,
   "id": "c0138fc9",
   "metadata": {},
   "outputs": [
    {
     "data": {
      "text/plain": [
       "MLPClassifier(activation='logistic', learning_rate='invscaling', max_iter=500)"
      ]
     },
     "execution_count": 37,
     "metadata": {},
     "output_type": "execute_result"
    }
   ],
   "source": [
    "grid_obj.best_estimator_"
   ]
  },
  {
   "cell_type": "markdown",
   "id": "bb281ba9",
   "metadata": {},
   "source": [
    "#### 2. K-Neighbors Classifier"
   ]
  },
  {
   "cell_type": "code",
   "execution_count": 41,
   "id": "e6118fd1",
   "metadata": {},
   "outputs": [
    {
     "name": "stdout",
     "output_type": "stream",
     "text": [
      "              precision    recall  f1-score   support\n",
      "\n",
      "           0       0.79      0.78      0.79        82\n",
      "           1       0.90      0.73      0.81        52\n",
      "           2       0.55      0.46      0.50        24\n",
      "           3       0.33      0.16      0.21        19\n",
      "           4       0.00      0.00      0.00         7\n",
      "\n",
      "   micro avg       0.76      0.63      0.69       184\n",
      "   macro avg       0.52      0.43      0.46       184\n",
      "weighted avg       0.71      0.63      0.67       184\n",
      " samples avg       0.63      0.63      0.63       184\n",
      "\n",
      "accuracy_score is 0.6304347826086957\n"
     ]
    },
    {
     "name": "stderr",
     "output_type": "stream",
     "text": [
      "C:\\Users\\gftaw\\anaconda3\\lib\\site-packages\\sklearn\\metrics\\_classification.py:1245: UndefinedMetricWarning: Precision and F-score are ill-defined and being set to 0.0 in labels with no predicted samples. Use `zero_division` parameter to control this behavior.\n",
      "  _warn_prf(average, modifier, msg_start, len(result))\n",
      "C:\\Users\\gftaw\\anaconda3\\lib\\site-packages\\sklearn\\metrics\\_classification.py:1245: UndefinedMetricWarning: Precision and F-score are ill-defined and being set to 0.0 in samples with no predicted labels. Use `zero_division` parameter to control this behavior.\n",
      "  _warn_prf(average, modifier, msg_start, len(result))\n"
     ]
    }
   ],
   "source": [
    "from sklearn.neighbors import KNeighborsClassifier\n",
    "#build the model\n",
    "KN= KNeighborsClassifier()\n",
    "# fit the model to the dataset\n",
    "KN.fit(X_train,Y_train)\n",
    "#predict the propability of getting heart attack\n",
    "y_pred= KN.predict(X_test)\n",
    "# evaluate the model\n",
    "print(classification_report(Y_test,y_pred))\n",
    "score=metrics.accuracy_score(Y_test,y_pred)\n",
    "print('accuracy_score is',score)"
   ]
  },
  {
   "cell_type": "markdown",
   "id": "f59b1e7c",
   "metadata": {},
   "source": [
    "#### Refinement"
   ]
  },
  {
   "cell_type": "code",
   "execution_count": 42,
   "id": "9ee0314d",
   "metadata": {},
   "outputs": [
    {
     "data": {
      "text/plain": [
       "GridSearchCV(cv=3, estimator=KNeighborsClassifier(), n_jobs=-1,\n",
       "             param_grid={'algorithm': ['auto', 'ball_tree', 'kd_tree', 'brute'],\n",
       "                         'leaf_size': [20, 30, 40],\n",
       "                         'weights': ['uniform', 'distance']})"
      ]
     },
     "execution_count": 42,
     "metadata": {},
     "output_type": "execute_result"
    }
   ],
   "source": [
    "parameters = {\n",
    "    'weights' : ['uniform', 'distance'],\n",
    "    'algorithm' : ['auto', 'ball_tree', 'kd_tree', 'brute'],\n",
    "    'leaf_size':[20,30,40] ,\n",
    "   \n",
    "}\n",
    "\n",
    "grid_obj = GridSearchCV(\n",
    "    estimator=KN,\n",
    "    param_grid=parameters,\n",
    "    n_jobs=-1,\n",
    "    cv=3\n",
    ")\n",
    "grid_obj.fit(X_train,Y_train)"
   ]
  },
  {
   "cell_type": "code",
   "execution_count": 44,
   "id": "23bb2b4d",
   "metadata": {},
   "outputs": [
    {
     "name": "stdout",
     "output_type": "stream",
     "text": [
      "              precision    recall  f1-score   support\n",
      "\n",
      "           0       0.80      0.77      0.78        82\n",
      "           1       0.84      0.69      0.76        52\n",
      "           2       0.61      0.46      0.52        24\n",
      "           3       0.36      0.21      0.27        19\n",
      "           4       0.00      0.00      0.00         7\n",
      "\n",
      "   micro avg       0.75      0.62      0.68       184\n",
      "   macro avg       0.52      0.43      0.47       184\n",
      "weighted avg       0.71      0.62      0.66       184\n",
      " samples avg       0.62      0.62      0.62       184\n",
      "\n",
      "accuracy_score is 0.6195652173913043\n"
     ]
    },
    {
     "name": "stderr",
     "output_type": "stream",
     "text": [
      "C:\\Users\\gftaw\\anaconda3\\lib\\site-packages\\sklearn\\metrics\\_classification.py:1245: UndefinedMetricWarning: Precision and F-score are ill-defined and being set to 0.0 in labels with no predicted samples. Use `zero_division` parameter to control this behavior.\n",
      "  _warn_prf(average, modifier, msg_start, len(result))\n",
      "C:\\Users\\gftaw\\anaconda3\\lib\\site-packages\\sklearn\\metrics\\_classification.py:1245: UndefinedMetricWarning: Precision and F-score are ill-defined and being set to 0.0 in samples with no predicted labels. Use `zero_division` parameter to control this behavior.\n",
      "  _warn_prf(average, modifier, msg_start, len(result))\n"
     ]
    }
   ],
   "source": [
    "y_pred= grid_obj.predict(X_test)\n",
    "print(classification_report(Y_test,y_pred))\n",
    "score=metrics.accuracy_score(Y_test,y_pred)\n",
    "print('accuracy_score is',score)"
   ]
  },
  {
   "cell_type": "markdown",
   "id": "a878e73b",
   "metadata": {},
   "source": [
    "#### 3. Decision Tree Classifier"
   ]
  },
  {
   "cell_type": "code",
   "execution_count": 45,
   "id": "9b587f3b",
   "metadata": {},
   "outputs": [
    {
     "name": "stdout",
     "output_type": "stream",
     "text": [
      "              precision    recall  f1-score   support\n",
      "\n",
      "           0       0.85      0.95      0.90        82\n",
      "           1       0.84      0.71      0.77        52\n",
      "           2       0.71      0.71      0.71        24\n",
      "           3       0.55      0.63      0.59        19\n",
      "           4       0.00      0.00      0.00         7\n",
      "\n",
      "   micro avg       0.78      0.78      0.78       184\n",
      "   macro avg       0.59      0.60      0.59       184\n",
      "weighted avg       0.76      0.78      0.77       184\n",
      " samples avg       0.78      0.78      0.78       184\n",
      "\n",
      "accuracy_score is 0.782608695652174\n"
     ]
    }
   ],
   "source": [
    "from sklearn.tree import DecisionTreeClassifier\n",
    "#build the model\n",
    "DT = DecisionTreeClassifier(random_state=8)\n",
    "# fit the model to the dataset\n",
    "DT.fit(X_train,Y_train)\n",
    "#predict the propability of getting heart attack\n",
    "y_pred= DT.predict(X_test)\n",
    "# evaluate the model\n",
    "print(classification_report(Y_test,y_pred))\n",
    "score=metrics.accuracy_score(Y_test,y_pred)\n",
    "print('accuracy_score is',score)"
   ]
  },
  {
   "cell_type": "markdown",
   "id": "0056e6ee",
   "metadata": {},
   "source": [
    "#### Refinement"
   ]
  },
  {
   "cell_type": "code",
   "execution_count": 47,
   "id": "9bd6b5cc",
   "metadata": {},
   "outputs": [
    {
     "name": "stdout",
     "output_type": "stream",
     "text": [
      "              precision    recall  f1-score   support\n",
      "\n",
      "           0       0.93      0.91      0.92        82\n",
      "           1       0.76      0.85      0.80        52\n",
      "           2       0.77      0.83      0.80        24\n",
      "           3       0.75      0.63      0.69        19\n",
      "           4       0.33      0.14      0.20         7\n",
      "\n",
      "   micro avg       0.83      0.83      0.83       184\n",
      "   macro avg       0.71      0.67      0.68       184\n",
      "weighted avg       0.82      0.83      0.82       184\n",
      " samples avg       0.83      0.83      0.83       184\n",
      "\n",
      "accuracy_score is 0.8260869565217391\n"
     ]
    },
    {
     "name": "stderr",
     "output_type": "stream",
     "text": [
      "C:\\Users\\gftaw\\anaconda3\\lib\\site-packages\\sklearn\\model_selection\\_search.py:918: UserWarning: One or more of the test scores are non-finite: [0.66348277 0.54088324 0.69212111 0.60490688        nan        nan\n",
      "        nan        nan 0.65400914 0.56265752 0.69485335 0.63895952\n",
      "        nan        nan        nan        nan]\n",
      "  warnings.warn(\n"
     ]
    }
   ],
   "source": [
    "parameters = {\n",
    "    'criterion' : ['gini', 'entropy'],\n",
    "    'splitter' : ['best', 'random'],\n",
    "    'max_features':[5,10,20,30] ,\n",
    "   \n",
    "}\n",
    "\n",
    "grid_obj = GridSearchCV(\n",
    "    estimator=DT,\n",
    "    param_grid=parameters,\n",
    "    n_jobs=-1,\n",
    "    cv=3\n",
    ")\n",
    "grid_obj.fit(X_train,Y_train)\n",
    "y_pred= grid_obj.predict(X_test)\n",
    "print(classification_report(Y_test,y_pred))\n",
    "score=metrics.accuracy_score(Y_test,y_pred)\n",
    "print('accuracy_score is',score)"
   ]
  },
  {
   "cell_type": "code",
   "execution_count": 49,
   "id": "611c4a85",
   "metadata": {},
   "outputs": [
    {
     "data": {
      "text/plain": [
       "DecisionTreeClassifier(criterion='entropy', max_features=10, random_state=8)"
      ]
     },
     "execution_count": 49,
     "metadata": {},
     "output_type": "execute_result"
    }
   ],
   "source": [
    "grid_obj.best_estimator_"
   ]
  },
  {
   "cell_type": "code",
   "execution_count": null,
   "id": "92e13c5d",
   "metadata": {},
   "outputs": [],
   "source": []
  }
 ],
 "metadata": {
  "kernelspec": {
   "display_name": "Python 3",
   "language": "python",
   "name": "python3"
  },
  "language_info": {
   "codemirror_mode": {
    "name": "ipython",
    "version": 3
   },
   "file_extension": ".py",
   "mimetype": "text/x-python",
   "name": "python",
   "nbconvert_exporter": "python",
   "pygments_lexer": "ipython3",
   "version": "3.8.8"
  }
 },
 "nbformat": 4,
 "nbformat_minor": 5
}
